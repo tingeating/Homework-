{
  "nbformat": 4,
  "nbformat_minor": 0,
  "metadata": {
    "colab": {
      "provenance": []
    },
    "kernelspec": {
      "name": "python3",
      "display_name": "Python 3"
    },
    "language_info": {
      "name": "python"
    }
  },
  "cells": [
    {
      "cell_type": "code",
      "execution_count": 1,
      "metadata": {
        "colab": {
          "base_uri": "https://localhost:8080/"
        },
        "id": "teb-ff2K-sUL",
        "outputId": "937d302a-978e-4dfb-b000-d2cb2f6d0b43"
      },
      "outputs": [
        {
          "output_type": "stream",
          "name": "stdout",
          "text": [
            "輸入範圍：4\n",
            "1x1=1\n",
            "1x2=2\n",
            "1x3=3\n",
            "1x4=4\n",
            "2x1=2\n",
            "2x2=4\n",
            "2x3=6\n",
            "2x4=8\n",
            "3x1=3\n",
            "3x2=6\n",
            "3x3=9\n",
            "3x4=12\n",
            "4x1=4\n",
            "4x2=8\n",
            "4x3=12\n",
            "4x4=16\n"
          ]
        }
      ],
      "source": [
        "num_str= input(\"輸入範圍：\")\n",
        "num = int(num_str)\n",
        "for i in range(1,num+1):\n",
        "      for j in range(1,num+1):\n",
        "          product=i*j\n",
        "          print(f\"{i}x{j}={product}\")"
      ]
    },
    {
      "cell_type": "code",
      "source": [
        "import random\n",
        "target_number=random.randint(1,100)\n",
        "i=int(target_number)\n",
        "print(\"歡迎參加猜數字遊戲！\")\n",
        "k=0\n",
        "while k==0:\n",
        "      num =int(input(\"猜一個數字：\"))\n",
        "      if num<i:\n",
        "        print(\"the answer is much higher\")\n",
        "      elif num>i:\n",
        "        print(\"the answer is much lower\")\n",
        "      else:\n",
        "        print(\"correct!congratulations!\")\n",
        "        k=101\n",
        "print(\"遊戲結束！\")\n",
        "\n"
      ],
      "metadata": {
        "colab": {
          "base_uri": "https://localhost:8080/"
        },
        "id": "N1yfaQExDSNa",
        "outputId": "54317c83-0c33-4c57-f0e7-0af8fe47fd72"
      },
      "execution_count": null,
      "outputs": [
        {
          "output_type": "stream",
          "name": "stdout",
          "text": [
            "歡迎參加猜數字遊戲！\n",
            "猜一個數字：50\n",
            "the answer is much lower\n",
            "猜一個數字：25\n",
            "the answer is much higher\n",
            "猜一個數字：40\n",
            "the answer is much lower\n",
            "猜一個數字：35\n",
            "the answer is much lower\n",
            "猜一個數字：30\n",
            "the answer is much higher\n",
            "猜一個數字：33\n",
            "the answer is much lower\n",
            "猜一個數字：32\n",
            "correct!congratulations!\n",
            "遊戲結束！\n"
          ]
        }
      ]
    }
  ]
}