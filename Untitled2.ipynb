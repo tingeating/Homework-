{
  "nbformat": 4,
  "nbformat_minor": 0,
  "metadata": {
    "colab": {
      "provenance": []
    },
    "kernelspec": {
      "name": "python3",
      "display_name": "Python 3"
    },
    "language_info": {
      "name": "python"
    }
  },
  "cells": [
    {
      "cell_type": "code",
      "execution_count": 12,
      "metadata": {
        "colab": {
          "base_uri": "https://localhost:8080/"
        },
        "id": "teb-ff2K-sUL",
        "outputId": "0cd6e709-32ce-41a6-a344-821ad545fa91"
      },
      "outputs": [
        {
          "output_type": "stream",
          "name": "stdout",
          "text": [
            "輸入範圍：4\n",
            "1x1=1\n",
            "1x2=2\n",
            "1x3=3\n",
            "2x1=2\n",
            "2x2=4\n",
            "2x3=6\n",
            "3x1=3\n",
            "3x2=6\n",
            "3x3=9\n"
          ]
        }
      ],
      "source": [
        "num_str= input(\"輸入範圍：\")\n",
        "num = int(num_str)\n",
        "for i in range(1,num):\n",
        "      for j in range(1,num):\n",
        "          product=i*j\n",
        "          print(f\"{i}x{j}={product}\")"
      ]
    },
    {
      "cell_type": "code",
      "source": [
        "import random\n",
        "target_number=random.randint(1,100)\n",
        "i=int(target_number)\n",
        "print(\"歡迎參加猜數字遊戲！\")\n",
        "ans=0\n",
        "while ans==0:\n",
        "      num =int(input(\"猜一個數字：\"))\n",
        "      if num<i:\n",
        "        print(\"the answer is much higher\")\n",
        "      elif num>i:\n",
        "        print(\"the answer is much lower\")\n",
        "      else:\n",
        "        print(\"correct!congratulations!\")\n",
        "        ans=101\n",
        "print(\"finish!the answer is\",{i})\n",
        "\n"
      ],
      "metadata": {
        "colab": {
          "base_uri": "https://localhost:8080/"
        },
        "id": "N1yfaQExDSNa",
        "outputId": "d5780f3d-abc1-48f5-be04-5a7668abdfcb"
      },
      "execution_count": 24,
      "outputs": [
        {
          "output_type": "stream",
          "name": "stdout",
          "text": [
            "歡迎參加猜數字遊戲！\n",
            "猜一個數字：50\n",
            "the answer is much lower\n",
            "猜一個數字：25\n",
            "the answer is much higher\n",
            "猜一個數字：37\n",
            "the answer is much higher\n",
            "猜一個數字：45\n",
            "the answer is much higher\n",
            "猜一個數字：47\n",
            "the answer is much lower\n",
            "猜一個數字：46\n",
            "correct!congratulations!\n",
            "finish!the answer is {46}\n"
          ]
        }
      ]
    }
  ]
}