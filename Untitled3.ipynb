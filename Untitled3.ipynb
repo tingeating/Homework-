{
  "nbformat": 4,
  "nbformat_minor": 0,
  "metadata": {
    "colab": {
      "provenance": []
    },
    "kernelspec": {
      "name": "python3",
      "display_name": "Python 3"
    },
    "language_info": {
      "name": "python"
    }
  },
  "cells": [
    {
      "cell_type": "code",
      "execution_count": 4,
      "metadata": {
        "colab": {
          "base_uri": "https://localhost:8080/"
        },
        "id": "Z2c5Dm8wDfqW",
        "outputId": "9b4b8113-0bb4-49ed-80ee-a6baa882d56f"
      },
      "outputs": [
        {
          "output_type": "stream",
          "name": "stdout",
          "text": [
            "\n",
            "您想查詢什麼？(藥方名稱/出典/處方/效能/適應症/退出查詢)：藥方名稱\n",
            "百合固金（丸）《丸》\n",
            "\n",
            "您想查詢什麼？(藥方名稱/出典/處方/效能/適應症/退出查詢)：出典\n",
            "百合固金（丸）《丸》的出典為:醫方集解\n",
            "\n",
            "您想查詢什麼？(藥方名稱/出典/處方/效能/適應症/退出查詢)：處方\n",
            "百合固金（丸）《丸》的處方為:\n",
            "生地黃：4公克\n",
            "熟地黃：6公克\n",
            "麥門冬：3公克\n",
            "百合：2公克\n",
            "白芍：2公克\n",
            "當歸：2公克\n",
            "貝母：2公克\n",
            "甘草：2公克\n",
            "玄參：1.6公克\n",
            "桔梗：1.6公克\n",
            "總克數為：26.200000000000003公克\n",
            "\n",
            "您想查詢什麼？(藥方名稱/出典/處方/效能/適應症/退出查詢)：效能\n",
            "百合固金（丸）《丸》的效能是:養陰清熱，潤肺化痰\n",
            "\n",
            "您想查詢什麼？(藥方名稱/出典/處方/效能/適應症/退出查詢)：適應症\n",
            "百合固金（丸）《丸》的適應症有:\n",
            "肺腎陰虧\n",
            "虛火上炎\n",
            "舌燥喉痛\n",
            "咳嗽氣喘\n",
            "\n",
            "您想查詢什麼？(藥方名稱/出典/處方/效能/適應症/退出查詢)：退出查詢\n",
            "感謝使用，再見！\n"
          ]
        }
      ],
      "source": [
        "# 定義六味地黃丸的資料\n",
        "prescription = {\n",
        "    '名稱': '百合固金（丸）《丸》',\n",
        "    '出典': '醫方集解',\n",
        "    '處方': {\n",
        "        '生地黃': 4,  # 公克\n",
        "        '熟地黃': 6,\n",
        "        '麥門冬': 3,\n",
        "        '百合': 2,\n",
        "        '白芍': 2,\n",
        "        '當歸': 2,\n",
        "        '貝母':2,\n",
        "        '甘草':2,\n",
        "        '玄參':1.6,\n",
        "        '桔梗':1.6\n",
        "    },\n",
        "    '效能': '養陰清熱，潤肺化痰',\n",
        "    '適應症': ['肺腎陰虧', '虛火上炎',  '舌燥喉痛', '咳嗽氣喘']\n",
        "}\n",
        "\n",
        "# 使用 while 迴圈提供查詢服務\n",
        "while True:\n",
        "    query = input(\"\\n您想查詢什麼？(藥方名稱/出典/處方/效能/適應症/退出查詢)：\")\n",
        "\n",
        "    if query == \"藥方名稱\":\n",
        "        print(f\"{prescription['名稱']}\")\n",
        "    elif query == \"出典\":\n",
        "        print(f\"{prescription['名稱']}的出典為:{prescription['出典']}\")\n",
        "    elif query == \"適應症\":\n",
        "        print(f\"{prescription['名稱']}的適應症有:\")\n",
        "        for symptom in prescription['適應症']:\n",
        "            print(symptom)\n",
        "    elif query == \"處方\":\n",
        "        total_weight = sum(prescription['處方'].values())\n",
        "        print(f\"{prescription['名稱']}的處方為:\")\n",
        "        for medicine, weight in prescription['處方'].items():\n",
        "            print(f\"{medicine}：{weight}公克\")\n",
        "        print(f\"總克數為：{total_weight}公克\")\n",
        "    elif query == \"效能\":\n",
        "        print(f\"{prescription['名稱']}的效能是:{prescription['效能']}\")\n",
        "    elif query == \"退出查詢\":\n",
        "        print(\"感謝使用，再見！\")\n",
        "        break\n",
        "    else:\n",
        "        print(\"輸入無效，請重新輸入。\")"
      ]
    }
  ]
}